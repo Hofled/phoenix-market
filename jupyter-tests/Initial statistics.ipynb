{
 "cells": [
  {
   "cell_type": "code",
   "execution_count": 760,
   "metadata": {},
   "outputs": [],
   "source": [
    "import numpy as np"
   ]
  },
  {
   "cell_type": "code",
   "execution_count": 761,
   "metadata": {},
   "outputs": [],
   "source": [
    "import os"
   ]
  },
  {
   "cell_type": "code",
   "execution_count": 762,
   "metadata": {},
   "outputs": [],
   "source": [
    "from bokeh.io import save, output_file"
   ]
  },
  {
   "cell_type": "code",
   "execution_count": 763,
   "metadata": {},
   "outputs": [],
   "source": [
    "import pandas as pd"
   ]
  },
  {
   "cell_type": "code",
   "execution_count": 764,
   "metadata": {},
   "outputs": [],
   "source": [
    "def combine_columns(columns, separator):\n",
    "    base = np.copy(columns[0].values)\n",
    "    for c in columns[1:]:\n",
    "        base += separator + c\n",
    "    return base"
   ]
  },
  {
   "cell_type": "code",
   "execution_count": 765,
   "metadata": {},
   "outputs": [],
   "source": [
    "def generate_bokeh_vbar_plot(x_vals, y_vals, bar_labels, title, tooltips=[], use_bar_labels=True):\n",
    "    from bokeh.io import curdoc\n",
    "    from bokeh.models import LabelSet, ColumnDataSource, HoverTool, NumeralTickFormatter\n",
    "    from bokeh.plotting import figure\n",
    "    # configure theme\n",
    "    curdoc().theme = 'dark_minimal'\n",
    "    \n",
    "    # setup bar labels\n",
    "    source = ColumnDataSource(data=dict(y_val=y_vals,\n",
    "                                        x_val=x_vals,\n",
    "                                        bar_label=bar_labels))\n",
    "    # create labelset\n",
    "    labels = LabelSet(x='x_val', y='y_val', text='bar_label', level='glyph', text_align='center', source=source, x_offset=0, y_offset=3, text_color=\"white\")\n",
    "    f = figure(x_range=x_vals, height=250, title=title, tooltips=tooltips)\n",
    "    # configure plot\n",
    "    f.yaxis[0].formatter = NumeralTickFormatter(format=\"F\")\n",
    "    f.sizing_mode = 'scale_both'\n",
    "    f.vbar(x='x_val', top='y_val', source=source, width=0.5, hover_fill_color=\"orange\")\n",
    "    f.xaxis.major_label_orientation = 1.0\n",
    "    f.x_range.range_padding = 0.0005\n",
    "    if use_bar_labels:\n",
    "        f.add_layout(labels)\n",
    "    return f"
   ]
  },
  {
   "cell_type": "code",
   "execution_count": 766,
   "metadata": {},
   "outputs": [],
   "source": [
    "spreadsheet_path = \"../data/market_03_01_2022.xlsx\""
   ]
  },
  {
   "cell_type": "code",
   "execution_count": 767,
   "metadata": {},
   "outputs": [],
   "source": [
    "spreadsheet_name = os.path.splitext(os.path.split(spreadsheet_path)[-1])[0]"
   ]
  },
  {
   "cell_type": "code",
   "execution_count": 768,
   "metadata": {},
   "outputs": [],
   "source": [
    "scrolls_df = pd.read_excel(spreadsheet_path, sheet_name=\"Scrolls\")"
   ]
  },
  {
   "cell_type": "code",
   "execution_count": 769,
   "metadata": {},
   "outputs": [
    {
     "data": {
      "text/html": [
       "<div>\n",
       "<style scoped>\n",
       "    .dataframe tbody tr th:only-of-type {\n",
       "        vertical-align: middle;\n",
       "    }\n",
       "\n",
       "    .dataframe tbody tr th {\n",
       "        vertical-align: top;\n",
       "    }\n",
       "\n",
       "    .dataframe thead th {\n",
       "        text-align: right;\n",
       "    }\n",
       "</style>\n",
       "<table border=\"1\" class=\"dataframe\">\n",
       "  <thead>\n",
       "    <tr style=\"text-align: right;\">\n",
       "      <th></th>\n",
       "      <th>item</th>\n",
       "      <th>stat</th>\n",
       "      <th>percent</th>\n",
       "      <th>price</th>\n",
       "      <th>owner_name</th>\n",
       "      <th>count</th>\n",
       "      <th>location</th>\n",
       "    </tr>\n",
       "  </thead>\n",
       "  <tbody>\n",
       "    <tr>\n",
       "      <th>0</th>\n",
       "      <td>shield</td>\n",
       "      <td>LUK</td>\n",
       "      <td>10</td>\n",
       "      <td>6666666</td>\n",
       "      <td>sedecreM</td>\n",
       "      <td>1</td>\n",
       "      <td>FM1</td>\n",
       "    </tr>\n",
       "    <tr>\n",
       "      <th>1</th>\n",
       "      <td>glove</td>\n",
       "      <td>Att</td>\n",
       "      <td>10</td>\n",
       "      <td>3600000</td>\n",
       "      <td>sedecreM</td>\n",
       "      <td>3</td>\n",
       "      <td>FM1</td>\n",
       "    </tr>\n",
       "    <tr>\n",
       "      <th>2</th>\n",
       "      <td>glove</td>\n",
       "      <td>Att</td>\n",
       "      <td>10</td>\n",
       "      <td>3999999</td>\n",
       "      <td>Necrolyptica</td>\n",
       "      <td>1</td>\n",
       "      <td>FM1</td>\n",
       "    </tr>\n",
       "    <tr>\n",
       "      <th>3</th>\n",
       "      <td>2h sword</td>\n",
       "      <td>Att</td>\n",
       "      <td>60</td>\n",
       "      <td>299999</td>\n",
       "      <td>Necrolyptica</td>\n",
       "      <td>1</td>\n",
       "      <td>FM1</td>\n",
       "    </tr>\n",
       "    <tr>\n",
       "      <th>4</th>\n",
       "      <td>2h sword</td>\n",
       "      <td>Att</td>\n",
       "      <td>10</td>\n",
       "      <td>499999</td>\n",
       "      <td>Necrolyptica</td>\n",
       "      <td>1</td>\n",
       "      <td>FM1</td>\n",
       "    </tr>\n",
       "    <tr>\n",
       "      <th>...</th>\n",
       "      <td>...</td>\n",
       "      <td>...</td>\n",
       "      <td>...</td>\n",
       "      <td>...</td>\n",
       "      <td>...</td>\n",
       "      <td>...</td>\n",
       "      <td>...</td>\n",
       "    </tr>\n",
       "    <tr>\n",
       "      <th>122</th>\n",
       "      <td>bottom</td>\n",
       "      <td>DEF</td>\n",
       "      <td>10</td>\n",
       "      <td>55555</td>\n",
       "      <td>AVOID</td>\n",
       "      <td>1</td>\n",
       "      <td>FM7</td>\n",
       "    </tr>\n",
       "    <tr>\n",
       "      <th>123</th>\n",
       "      <td>helmet</td>\n",
       "      <td>HP</td>\n",
       "      <td>10</td>\n",
       "      <td>99999</td>\n",
       "      <td>AVOID</td>\n",
       "      <td>1</td>\n",
       "      <td>FM7</td>\n",
       "    </tr>\n",
       "    <tr>\n",
       "      <th>124</th>\n",
       "      <td>helmet</td>\n",
       "      <td>DEX</td>\n",
       "      <td>60</td>\n",
       "      <td>13999999</td>\n",
       "      <td>AVOID</td>\n",
       "      <td>1</td>\n",
       "      <td>FM7</td>\n",
       "    </tr>\n",
       "    <tr>\n",
       "      <th>125</th>\n",
       "      <td>bow</td>\n",
       "      <td>Att</td>\n",
       "      <td>30</td>\n",
       "      <td>11999999</td>\n",
       "      <td>Jwatt</td>\n",
       "      <td>1</td>\n",
       "      <td>FM7</td>\n",
       "    </tr>\n",
       "    <tr>\n",
       "      <th>126</th>\n",
       "      <td>2H bw</td>\n",
       "      <td>Att</td>\n",
       "      <td>30</td>\n",
       "      <td>1999999</td>\n",
       "      <td>Jwatt</td>\n",
       "      <td>1</td>\n",
       "      <td>FM7</td>\n",
       "    </tr>\n",
       "  </tbody>\n",
       "</table>\n",
       "<p>127 rows × 7 columns</p>\n",
       "</div>"
      ],
      "text/plain": [
       "         item stat  percent     price    owner_name  count location\n",
       "0      shield  LUK       10   6666666      sedecreM      1      FM1\n",
       "1       glove  Att       10   3600000      sedecreM      3      FM1\n",
       "2       glove  Att       10   3999999  Necrolyptica      1      FM1\n",
       "3    2h sword  Att       60    299999  Necrolyptica      1      FM1\n",
       "4    2h sword  Att       10    499999  Necrolyptica      1      FM1\n",
       "..        ...  ...      ...       ...           ...    ...      ...\n",
       "122    bottom  DEF       10     55555         AVOID      1      FM7\n",
       "123    helmet   HP       10     99999         AVOID      1      FM7\n",
       "124    helmet  DEX       60  13999999         AVOID      1      FM7\n",
       "125       bow  Att       30  11999999         Jwatt      1      FM7\n",
       "126     2H bw  Att       30   1999999         Jwatt      1      FM7\n",
       "\n",
       "[127 rows x 7 columns]"
      ]
     },
     "execution_count": 769,
     "metadata": {},
     "output_type": "execute_result"
    }
   ],
   "source": [
    "scrolls_df"
   ]
  },
  {
   "cell_type": "markdown",
   "metadata": {},
   "source": [
    "## Create folder for date"
   ]
  },
  {
   "cell_type": "code",
   "execution_count": 770,
   "metadata": {},
   "outputs": [],
   "source": [
    "date_root_folder_path = f\"../out/{spreadsheet_name}\"\n",
    "if not os.path.exists(date_root_folder_path):\n",
    "    os.mkdir(date_root_folder_path)"
   ]
  },
  {
   "cell_type": "code",
   "execution_count": 771,
   "metadata": {},
   "outputs": [],
   "source": [
    "# Create combined item name column\n",
    "scrolls_df[\"combined_name\"] = combine_columns([scrolls_df[\"item\"], scrolls_df[\"stat\"], scrolls_df[\"percent\"].astype(str)], '-')"
   ]
  },
  {
   "cell_type": "code",
   "execution_count": 772,
   "metadata": {},
   "outputs": [
    {
     "data": {
      "text/html": [
       "<div>\n",
       "<style scoped>\n",
       "    .dataframe tbody tr th:only-of-type {\n",
       "        vertical-align: middle;\n",
       "    }\n",
       "\n",
       "    .dataframe tbody tr th {\n",
       "        vertical-align: top;\n",
       "    }\n",
       "\n",
       "    .dataframe thead th {\n",
       "        text-align: right;\n",
       "    }\n",
       "</style>\n",
       "<table border=\"1\" class=\"dataframe\">\n",
       "  <thead>\n",
       "    <tr style=\"text-align: right;\">\n",
       "      <th></th>\n",
       "      <th>item</th>\n",
       "      <th>stat</th>\n",
       "      <th>percent</th>\n",
       "      <th>price</th>\n",
       "      <th>owner_name</th>\n",
       "      <th>count</th>\n",
       "      <th>location</th>\n",
       "      <th>combined_name</th>\n",
       "    </tr>\n",
       "  </thead>\n",
       "  <tbody>\n",
       "    <tr>\n",
       "      <th>0</th>\n",
       "      <td>shield</td>\n",
       "      <td>LUK</td>\n",
       "      <td>10</td>\n",
       "      <td>6666666</td>\n",
       "      <td>sedecreM</td>\n",
       "      <td>1</td>\n",
       "      <td>FM1</td>\n",
       "      <td>shield-LUK-10</td>\n",
       "    </tr>\n",
       "    <tr>\n",
       "      <th>1</th>\n",
       "      <td>glove</td>\n",
       "      <td>Att</td>\n",
       "      <td>10</td>\n",
       "      <td>3600000</td>\n",
       "      <td>sedecreM</td>\n",
       "      <td>3</td>\n",
       "      <td>FM1</td>\n",
       "      <td>glove-Att-10</td>\n",
       "    </tr>\n",
       "    <tr>\n",
       "      <th>2</th>\n",
       "      <td>glove</td>\n",
       "      <td>Att</td>\n",
       "      <td>10</td>\n",
       "      <td>3999999</td>\n",
       "      <td>Necrolyptica</td>\n",
       "      <td>1</td>\n",
       "      <td>FM1</td>\n",
       "      <td>glove-Att-10</td>\n",
       "    </tr>\n",
       "    <tr>\n",
       "      <th>3</th>\n",
       "      <td>2h sword</td>\n",
       "      <td>Att</td>\n",
       "      <td>60</td>\n",
       "      <td>299999</td>\n",
       "      <td>Necrolyptica</td>\n",
       "      <td>1</td>\n",
       "      <td>FM1</td>\n",
       "      <td>2h sword-Att-60</td>\n",
       "    </tr>\n",
       "    <tr>\n",
       "      <th>4</th>\n",
       "      <td>2h sword</td>\n",
       "      <td>Att</td>\n",
       "      <td>10</td>\n",
       "      <td>499999</td>\n",
       "      <td>Necrolyptica</td>\n",
       "      <td>1</td>\n",
       "      <td>FM1</td>\n",
       "      <td>2h sword-Att-10</td>\n",
       "    </tr>\n",
       "    <tr>\n",
       "      <th>...</th>\n",
       "      <td>...</td>\n",
       "      <td>...</td>\n",
       "      <td>...</td>\n",
       "      <td>...</td>\n",
       "      <td>...</td>\n",
       "      <td>...</td>\n",
       "      <td>...</td>\n",
       "      <td>...</td>\n",
       "    </tr>\n",
       "    <tr>\n",
       "      <th>122</th>\n",
       "      <td>bottom</td>\n",
       "      <td>DEF</td>\n",
       "      <td>10</td>\n",
       "      <td>55555</td>\n",
       "      <td>AVOID</td>\n",
       "      <td>1</td>\n",
       "      <td>FM7</td>\n",
       "      <td>bottom-DEF-10</td>\n",
       "    </tr>\n",
       "    <tr>\n",
       "      <th>123</th>\n",
       "      <td>helmet</td>\n",
       "      <td>HP</td>\n",
       "      <td>10</td>\n",
       "      <td>99999</td>\n",
       "      <td>AVOID</td>\n",
       "      <td>1</td>\n",
       "      <td>FM7</td>\n",
       "      <td>helmet-HP-10</td>\n",
       "    </tr>\n",
       "    <tr>\n",
       "      <th>124</th>\n",
       "      <td>helmet</td>\n",
       "      <td>DEX</td>\n",
       "      <td>60</td>\n",
       "      <td>13999999</td>\n",
       "      <td>AVOID</td>\n",
       "      <td>1</td>\n",
       "      <td>FM7</td>\n",
       "      <td>helmet-DEX-60</td>\n",
       "    </tr>\n",
       "    <tr>\n",
       "      <th>125</th>\n",
       "      <td>bow</td>\n",
       "      <td>Att</td>\n",
       "      <td>30</td>\n",
       "      <td>11999999</td>\n",
       "      <td>Jwatt</td>\n",
       "      <td>1</td>\n",
       "      <td>FM7</td>\n",
       "      <td>bow-Att-30</td>\n",
       "    </tr>\n",
       "    <tr>\n",
       "      <th>126</th>\n",
       "      <td>2H bw</td>\n",
       "      <td>Att</td>\n",
       "      <td>30</td>\n",
       "      <td>1999999</td>\n",
       "      <td>Jwatt</td>\n",
       "      <td>1</td>\n",
       "      <td>FM7</td>\n",
       "      <td>2H bw-Att-30</td>\n",
       "    </tr>\n",
       "  </tbody>\n",
       "</table>\n",
       "<p>127 rows × 8 columns</p>\n",
       "</div>"
      ],
      "text/plain": [
       "         item stat  percent     price    owner_name  count location  \\\n",
       "0      shield  LUK       10   6666666      sedecreM      1      FM1   \n",
       "1       glove  Att       10   3600000      sedecreM      3      FM1   \n",
       "2       glove  Att       10   3999999  Necrolyptica      1      FM1   \n",
       "3    2h sword  Att       60    299999  Necrolyptica      1      FM1   \n",
       "4    2h sword  Att       10    499999  Necrolyptica      1      FM1   \n",
       "..        ...  ...      ...       ...           ...    ...      ...   \n",
       "122    bottom  DEF       10     55555         AVOID      1      FM7   \n",
       "123    helmet   HP       10     99999         AVOID      1      FM7   \n",
       "124    helmet  DEX       60  13999999         AVOID      1      FM7   \n",
       "125       bow  Att       30  11999999         Jwatt      1      FM7   \n",
       "126     2H bw  Att       30   1999999         Jwatt      1      FM7   \n",
       "\n",
       "       combined_name  \n",
       "0      shield-LUK-10  \n",
       "1       glove-Att-10  \n",
       "2       glove-Att-10  \n",
       "3    2h sword-Att-60  \n",
       "4    2h sword-Att-10  \n",
       "..               ...  \n",
       "122    bottom-DEF-10  \n",
       "123     helmet-HP-10  \n",
       "124    helmet-DEX-60  \n",
       "125       bow-Att-30  \n",
       "126     2H bw-Att-30  \n",
       "\n",
       "[127 rows x 8 columns]"
      ]
     },
     "execution_count": 772,
     "metadata": {},
     "output_type": "execute_result"
    }
   ],
   "source": [
    "scrolls_df"
   ]
  },
  {
   "cell_type": "markdown",
   "metadata": {},
   "source": [
    "# Scrolls"
   ]
  },
  {
   "cell_type": "code",
   "execution_count": 773,
   "metadata": {},
   "outputs": [],
   "source": [
    "scrolls_root_folder = f\"{date_root_folder_path}/scrolls\"\n",
    "if not os.path.exists(scrolls_root_folder):\n",
    "    os.mkdir(scrolls_root_folder)"
   ]
  },
  {
   "cell_type": "markdown",
   "metadata": {},
   "source": [
    "## Scroll Count"
   ]
  },
  {
   "cell_type": "code",
   "execution_count": 774,
   "metadata": {},
   "outputs": [],
   "source": [
    "scroll_count_df = pd.DataFrame(scrolls_df[\"combined_name\"].value_counts()).rename_axis(\"item_name\").rename(columns={\"combined_name\": \"count\"})\n",
    "x_labels = np.sort(scroll_count_df.index.values)\n",
    "y_vals = scroll_count_df.loc[x_labels][\"count\"].values"
   ]
  },
  {
   "cell_type": "code",
   "execution_count": 775,
   "metadata": {},
   "outputs": [],
   "source": [
    "scroll_count_plot = generate_bokeh_vbar_plot(x_labels, y_vals, list(map(str, y_vals)), \"Scroll Count\", [(\"count\", \"@y_val\"), (\"name\", \"@x_val\")])"
   ]
  },
  {
   "cell_type": "code",
   "execution_count": 776,
   "metadata": {},
   "outputs": [
    {
     "data": {
      "text/plain": [
       "'F:\\\\Development\\\\phoenix-market\\\\out\\\\market_03_01_2022\\\\scrolls\\\\scroll_count.html'"
      ]
     },
     "execution_count": 776,
     "metadata": {},
     "output_type": "execute_result"
    }
   ],
   "source": [
    "output_file(f\"{scrolls_root_folder}/scroll_count.html\")\n",
    "save(scroll_count_plot)"
   ]
  },
  {
   "cell_type": "markdown",
   "metadata": {},
   "source": [
    "### ======================================="
   ]
  },
  {
   "cell_type": "markdown",
   "metadata": {},
   "source": [
    "## Mean Scroll Price"
   ]
  },
  {
   "cell_type": "code",
   "execution_count": 777,
   "metadata": {},
   "outputs": [],
   "source": [
    "mean_scroll_prices = scrolls_df.groupby(by=[\"combined_name\"]).mean().rename_axis(\"item_name\")\n",
    "x_labels = np.sort(mean_scroll_prices.index.values)\n",
    "y_vals = mean_scroll_prices.loc[x_labels][\"price\"].values"
   ]
  },
  {
   "cell_type": "code",
   "execution_count": 778,
   "metadata": {},
   "outputs": [],
   "source": [
    "mean_scroll_prices_plot = generate_bokeh_vbar_plot(x_labels, y_vals, list(map(str, y_vals)), \"Mean Scroll Price\", [(\"price\", \"@y_val{F}\"), (\"name\", \"@x_val\")], use_bar_labels=False)"
   ]
  },
  {
   "cell_type": "code",
   "execution_count": 779,
   "metadata": {},
   "outputs": [
    {
     "data": {
      "text/plain": [
       "'F:\\\\Development\\\\phoenix-market\\\\out\\\\market_03_01_2022\\\\scrolls\\\\mean_scroll_prices.html'"
      ]
     },
     "execution_count": 779,
     "metadata": {},
     "output_type": "execute_result"
    }
   ],
   "source": [
    "output_file(f\"{scrolls_root_folder}/mean_scroll_prices.html\")\n",
    "save(mean_scroll_prices_plot)"
   ]
  },
  {
   "cell_type": "markdown",
   "metadata": {},
   "source": [
    "## Scroll Price By Owner"
   ]
  },
  {
   "cell_type": "code",
   "execution_count": 780,
   "metadata": {
    "scrolled": true
   },
   "outputs": [
    {
     "name": "stderr",
     "output_type": "stream",
     "text": [
      "ERROR:bokeh.core.validation.check:E-1019 (DUPLICATE_FACTORS): FactorRange must specify a unique list of categorical factors for an axis: duplicate factors found: 'Doodlebob'\n"
     ]
    }
   ],
   "source": [
    "for scroll_name in scrolls_df[\"combined_name\"].unique():\n",
    "    scroll_price_by_owner_df = scrolls_df[scrolls_df[\"combined_name\"] == scroll_name]\n",
    "    sorted_names = sorted(list(zip(scroll_price_by_owner_df[\"owner_name\"].values, scroll_price_by_owner_df[\"owner_name\"].index)), key=lambda x: str.lower(x[0]))\n",
    "    indexes = [x[1] for x in sorted_names]\n",
    "    x_labels = [x[0] for x in sorted_names]\n",
    "    y_vals = scroll_price_by_owner_df.loc[indexes][\"price\"].values\n",
    "    plot = generate_bokeh_vbar_plot(x_labels, y_vals, list(map(str, y_vals)), scroll_name, [(\"price\", \"@y_val{F}\"), (\"name\", \"@x_val\")], use_bar_labels=False)\n",
    "    output_file(f\"{scrolls_root_folder}/{scroll_name}_price_by_owner.html\")\n",
    "    save(plot)"
   ]
  },
  {
   "cell_type": "markdown",
   "metadata": {},
   "source": [
    "## Sold Items Count Per Player"
   ]
  },
  {
   "cell_type": "code",
   "execution_count": 781,
   "metadata": {},
   "outputs": [],
   "source": [
    "player_root_folder_path = f\"{date_root_folder_path}/player\"\n",
    "if not os.path.exists(player_root_folder_path):\n",
    "    os.mkdir(player_root_folder_path)"
   ]
  },
  {
   "cell_type": "code",
   "execution_count": 782,
   "metadata": {},
   "outputs": [],
   "source": [
    "item_count_per_player = scrolls_df.groupby(by=[\"owner_name\"]).sum()[\"count\"].sort_values()\n",
    "x_labels = item_count_per_player.index.values\n",
    "y_vals = item_count_per_player.values"
   ]
  },
  {
   "cell_type": "code",
   "execution_count": 783,
   "metadata": {},
   "outputs": [],
   "source": [
    "item_count_per_player_plot = generate_bokeh_vbar_plot(x_labels, y_vals, list(map(str, y_vals)), \"Scroll Sell Count Per Player\", [(\"count\", \"@y_val{F}\"), (\"name\", \"@x_val\")], use_bar_labels=True)"
   ]
  },
  {
   "cell_type": "code",
   "execution_count": 784,
   "metadata": {},
   "outputs": [
    {
     "data": {
      "text/plain": [
       "'F:\\\\Development\\\\phoenix-market\\\\out\\\\market_03_01_2022\\\\player\\\\player_items_for_sale_count.html'"
      ]
     },
     "execution_count": 784,
     "metadata": {},
     "output_type": "execute_result"
    }
   ],
   "source": [
    "output_file(f\"{player_root_folder_path}/player_items_for_sale_count.html\")\n",
    "save(item_count_per_player_plot)"
   ]
  }
 ],
 "metadata": {
  "kernelspec": {
   "display_name": "Python 3 (ipykernel)",
   "language": "python",
   "name": "python3"
  },
  "language_info": {
   "codemirror_mode": {
    "name": "ipython",
    "version": 3
   },
   "file_extension": ".py",
   "mimetype": "text/x-python",
   "name": "python",
   "nbconvert_exporter": "python",
   "pygments_lexer": "ipython3",
   "version": "3.9.7"
  }
 },
 "nbformat": 4,
 "nbformat_minor": 4
}
