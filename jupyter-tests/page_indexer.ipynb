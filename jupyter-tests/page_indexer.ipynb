{
 "cells": [
  {
   "cell_type": "code",
   "execution_count": 37,
   "id": "a1e7a745",
   "metadata": {},
   "outputs": [],
   "source": [
    "import os\n",
    "import numpy as np\n",
    "import pathlib"
   ]
  },
  {
   "cell_type": "code",
   "execution_count": 38,
   "id": "59eab7e2",
   "metadata": {},
   "outputs": [],
   "source": [
    "def index_tree(root, output, path_from_parent=''):\n",
    "    for f in os.scandir(root):        \n",
    "        if f.is_dir():\n",
    "            link_text = ' '.join(f.name.split(\"_\"))\n",
    "            if path_from_parent == '':\n",
    "                path_from_parent = 'indexes'\n",
    "            url_content = '/'.join([path_from_parent, f.name])\n",
    "            link_url = f\"{{{{ site.baseurl }}}}{{% link {url_content}_index.md %}}\"\n",
    "            output.write(f\"- [{link_text}]({link_url})\\n\")\n",
    "            index_files_in_dir(f, url_content, link_text)\n",
    "        elif f.is_file():\n",
    "            if f.name[0] == '.':\n",
    "                continue\n",
    "            link_text = ' '.join(os.path.splitext(f.name)[0].split(\"_\"))\n",
    "            link_url = f\"{{{{ site.baseurl }}}}{{% link {'/'.join(os.path.normpath(f.path).split(os.sep))} %}}\"\n",
    "            output.write(f\"- [{link_text}]({link_url})\\n\")"
   ]
  },
  {
   "cell_type": "code",
   "execution_count": 39,
   "id": "77f54620",
   "metadata": {},
   "outputs": [],
   "source": [
    "def index_files_in_dir(dir_obj, path_from_parent, title):    \n",
    "    index_path = f\"{'/'.join(os.path.normpath(path_from_parent).split(os.sep))}_index.md\"\n",
    "    # create index directory if directory contains internal directories\n",
    "    if not os.path.exists(path_from_parent) and True in [x.is_dir() for x in os.scandir(dir_obj.path)]:\n",
    "        os.mkdir(path_from_parent)\n",
    "    page = open(index_path, 'w')\n",
    "    page.write(f\"# {title}\\n\")\n",
    "    index_tree(dir_obj.path, page, path_from_parent)\n",
    "    page.close()"
   ]
  },
  {
   "cell_type": "code",
   "execution_count": 40,
   "id": "5e081504",
   "metadata": {},
   "outputs": [],
   "source": [
    "# os.chdir(\"..\")\n",
    "# os.getcwd()"
   ]
  },
  {
   "cell_type": "code",
   "execution_count": 41,
   "id": "c6615a1b",
   "metadata": {},
   "outputs": [],
   "source": [
    "with open(\"_includes/base_index.md\", 'w') as base:\n",
    "    index_tree(\"out/\", base)"
   ]
  }
 ],
 "metadata": {
  "kernelspec": {
   "display_name": "Python 3 (ipykernel)",
   "language": "python",
   "name": "python3"
  },
  "language_info": {
   "codemirror_mode": {
    "name": "ipython",
    "version": 3
   },
   "file_extension": ".py",
   "mimetype": "text/x-python",
   "name": "python",
   "nbconvert_exporter": "python",
   "pygments_lexer": "ipython3",
   "version": "3.9.7"
  }
 },
 "nbformat": 4,
 "nbformat_minor": 5
}
