{
 "cells": [
  {
   "cell_type": "code",
   "execution_count": null,
   "id": "a1e7a745",
   "metadata": {},
   "outputs": [],
   "source": [
    "import os"
   ]
  },
  {
   "cell_type": "code",
   "execution_count": 111,
   "id": "59eab7e2",
   "metadata": {},
   "outputs": [],
   "source": [
    "def index_tree(root, output):\n",
    "    for f in os.scandir(root):\n",
    "        if f.is_dir():\n",
    "            link_text = ' '.join(f.name.split(\"_\"))\n",
    "            # create directory page\n",
    "            create_dir_page(f, link_text)\n",
    "            # write link to directory page, and index internal files\n",
    "            link_url = f\"{{{{ site.baseurl }}}}{{% link {'/'.join(['indexes', f.name])}_index.md %}}\"\n",
    "            output.write(f\"- [{link_text}]({link_url})\\n\")\n",
    "        elif f.is_file():\n",
    "            if f.name[0] == '.':\n",
    "                continue\n",
    "            link_text = ' '.join(os.path.splitext(f.name)[0].split(\"_\"))\n",
    "            link_url = f\"{{{{ site.baseurl }}}}{{% link {'/'.join(os.path.split(f.path))} %}}\"\n",
    "            output.write(f\"- [{link_text}]({link_url})\\n\")"
   ]
  },
  {
   "cell_type": "code",
   "execution_count": null,
   "id": "77f54620",
   "metadata": {},
   "outputs": [],
   "source": [
    "def create_dir_page(dir_obj, title):\n",
    "    page = open(f\"indexes/{dir_obj.name}_index.md\", 'w')\n",
    "    page.write(f\"# {title}\\n\")\n",
    "    index_tree(dir_obj.path, page)\n",
    "    page.close()"
   ]
  },
  {
   "cell_type": "code",
   "execution_count": 112,
   "id": "c6615a1b",
   "metadata": {},
   "outputs": [],
   "source": [
    "with open(\"_includes/base_index.md\", 'w') as base:\n",
    "    index_tree(\"out/\", base)"
   ]
  }
 ],
 "metadata": {
  "kernelspec": {
   "display_name": "Python 3 (ipykernel)",
   "language": "python",
   "name": "python3"
  },
  "language_info": {
   "codemirror_mode": {
    "name": "ipython",
    "version": 3
   },
   "file_extension": ".py",
   "mimetype": "text/x-python",
   "name": "python",
   "nbconvert_exporter": "python",
   "pygments_lexer": "ipython3",
   "version": "3.9.7"
  }
 },
 "nbformat": 4,
 "nbformat_minor": 5
}
